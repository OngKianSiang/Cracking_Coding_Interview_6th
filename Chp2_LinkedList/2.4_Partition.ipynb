{
 "cells": [
  {
   "cell_type": "code",
   "execution_count": 1,
   "id": "08424fbd",
   "metadata": {},
   "outputs": [],
   "source": [
    "from linked_list import LinkedList"
   ]
  },
  {
   "cell_type": "code",
   "execution_count": 2,
   "id": "02bc626b",
   "metadata": {},
   "outputs": [],
   "source": [
    "def partition(ll, x):\n",
    "    current = ll.tail = ll.head\n",
    "    \n",
    "    while current:\n",
    "        # save the next node\n",
    "        next_node = current.next\n",
    "        current.next = None\n",
    "        \n",
    "        # value < x\n",
    "        if current.value < x:\n",
    "            # save ll head (left)\n",
    "            current.next = ll.head\n",
    "            ll.head = current\n",
    "        else:\n",
    "            # value > x\n",
    "            ## save ll tail next (right)\n",
    "            ll.tail.next = current\n",
    "            ll.tail = current\n",
    "        \n",
    "        # to the next node\n",
    "        current = next_node\n",
    "        "
   ]
  },
  {
   "cell_type": "code",
   "execution_count": 3,
   "id": "a67a3508",
   "metadata": {},
   "outputs": [
    {
     "name": "stdout",
     "output_type": "stream",
     "text": [
      "3 -> 5 -> 8 -> 5 -> 10 -> 2 -> 1\n",
      "1 -> 2 -> 3 -> 5 -> 8 -> 5 -> 10\n"
     ]
    }
   ],
   "source": [
    "ll = LinkedList((3, 5, 8, 5, 10, 2, 1))\n",
    "print(ll)\n",
    "partition(ll, 5)\n",
    "print(ll)"
   ]
  },
  {
   "cell_type": "code",
   "execution_count": null,
   "id": "bcf4b5fb",
   "metadata": {},
   "outputs": [],
   "source": []
  }
 ],
 "metadata": {
  "kernelspec": {
   "display_name": "Python 3 (ipykernel)",
   "language": "python",
   "name": "python3"
  },
  "language_info": {
   "codemirror_mode": {
    "name": "ipython",
    "version": 3
   },
   "file_extension": ".py",
   "mimetype": "text/x-python",
   "name": "python",
   "nbconvert_exporter": "python",
   "pygments_lexer": "ipython3",
   "version": "3.7.11"
  }
 },
 "nbformat": 4,
 "nbformat_minor": 5
}
