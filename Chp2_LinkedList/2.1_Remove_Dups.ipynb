{
 "cells": [
  {
   "cell_type": "code",
   "execution_count": 1,
   "id": "d128460b",
   "metadata": {},
   "outputs": [],
   "source": [
    "from linked_list import LinkedList"
   ]
  },
  {
   "cell_type": "code",
   "execution_count": 2,
   "id": "7c4dfba1",
   "metadata": {},
   "outputs": [],
   "source": [
    "def remove_dups(ll):\n",
    "    # Linked List\n",
    "    current = ll.head\n",
    "    previous = None\n",
    "    seen = set()\n",
    "    \n",
    "    # Through every nodes\n",
    "    while current:\n",
    "       # print(current)\n",
    "        # Duplicated\n",
    "        ## skip current node\n",
    "        if current.value in seen:\n",
    "            previous.next = current.next\n",
    "        \n",
    "        # or First-seen\n",
    "        else:\n",
    "            seen.add(current.value)\n",
    "            previous = current\n",
    "            \n",
    "        # Next\n",
    "        current = current.next\n",
    "    \n",
    "    # Currently reach tail (NULL)\n",
    "    ll.tail = previous\n",
    "    return ll\n",
    "\n",
    "\n",
    "def remove_dups_followup(ll):\n",
    "    # Without a data structure\n",
    "    ## Two pointer\n",
    "    runner = current = ll.head\n",
    "    \n",
    "    while current:\n",
    "        runner = current\n",
    "        # Current stay, Runner next, check if repeated\n",
    "        while runner.next:\n",
    "            # Skip if duplicated (runner)\n",
    "            if runner.next.value == current.value:\n",
    "                runner.next = runner.next.next\n",
    "            else:\n",
    "                runner = runner.next\n",
    "        # Runner ended\n",
    "        current = current.next\n",
    "        \n",
    "    # Current ended\n",
    "    ll.tail = runner\n",
    "    return ll\n",
    "\n",
    "def demo():\n",
    "    ll = LinkedList.generate(10, 0, 9)\n",
    "    print(ll)\n",
    "    remove_dups(ll)\n",
    "    print(ll)\n",
    "\n",
    "    ll = LinkedList.generate(10, 0, 9)\n",
    "    print(ll)\n",
    "    remove_dups_followup(ll)\n",
    "    print(ll)"
   ]
  },
  {
   "cell_type": "code",
   "execution_count": 3,
   "id": "95c1ca96",
   "metadata": {},
   "outputs": [
    {
     "name": "stdout",
     "output_type": "stream",
     "text": [
      "0 -> 0 -> 3 -> 7 -> 7 -> 2 -> 6 -> 0 -> 3 -> 2\n",
      "0 -> 3 -> 7 -> 2 -> 6\n",
      "2 -> 2 -> 5 -> 6 -> 2 -> 4 -> 4 -> 7 -> 1 -> 3\n",
      "2 -> 5 -> 6 -> 4 -> 7 -> 1 -> 3\n"
     ]
    }
   ],
   "source": [
    "demo()"
   ]
  },
  {
   "cell_type": "code",
   "execution_count": null,
   "id": "a88dfb45",
   "metadata": {},
   "outputs": [],
   "source": []
  }
 ],
 "metadata": {
  "kernelspec": {
   "display_name": "Python 3 (ipykernel)",
   "language": "python",
   "name": "python3"
  },
  "language_info": {
   "codemirror_mode": {
    "name": "ipython",
    "version": 3
   },
   "file_extension": ".py",
   "mimetype": "text/x-python",
   "name": "python",
   "nbconvert_exporter": "python",
   "pygments_lexer": "ipython3",
   "version": "3.7.11"
  }
 },
 "nbformat": 4,
 "nbformat_minor": 5
}
