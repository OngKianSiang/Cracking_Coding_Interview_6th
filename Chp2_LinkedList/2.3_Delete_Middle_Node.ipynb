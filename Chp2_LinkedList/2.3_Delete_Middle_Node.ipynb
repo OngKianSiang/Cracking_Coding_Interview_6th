{
 "cells": [
  {
   "cell_type": "code",
   "execution_count": 1,
   "id": "04a154d5",
   "metadata": {},
   "outputs": [],
   "source": [
    "from linked_list import LinkedList"
   ]
  },
  {
   "cell_type": "code",
   "execution_count": 2,
   "id": "596f2eb9",
   "metadata": {},
   "outputs": [],
   "source": [
    "def delete_middle_node(ll, number):\n",
    "    current = ll.head\n",
    "    \n",
    "    # Current next != NULL (tail)\n",
    "    while current.next:\n",
    "        if current.next.value == number:\n",
    "            # skip next\n",
    "            current.next = current.next.next\n",
    "        current = current.next\n",
    "    return ll"
   ]
  },
  {
   "cell_type": "code",
   "execution_count": 3,
   "id": "baaa6561",
   "metadata": {},
   "outputs": [
    {
     "name": "stdout",
     "output_type": "stream",
     "text": [
      "0 -> 1 -> 2 -> 3 -> 4 -> 5\n",
      "0 -> 1 -> 2 -> 4 -> 5\n"
     ]
    }
   ],
   "source": [
    "ll = LinkedList((0, 1, 2, 3, 4, 5))\n",
    "print(ll)\n",
    "print(delete_middle_node(ll, 3))"
   ]
  },
  {
   "cell_type": "code",
   "execution_count": null,
   "id": "83e8da8a",
   "metadata": {},
   "outputs": [],
   "source": []
  }
 ],
 "metadata": {
  "kernelspec": {
   "display_name": "Python 3 (ipykernel)",
   "language": "python",
   "name": "python3"
  },
  "language_info": {
   "codemirror_mode": {
    "name": "ipython",
    "version": 3
   },
   "file_extension": ".py",
   "mimetype": "text/x-python",
   "name": "python",
   "nbconvert_exporter": "python",
   "pygments_lexer": "ipython3",
   "version": "3.7.11"
  }
 },
 "nbformat": 4,
 "nbformat_minor": 5
}
