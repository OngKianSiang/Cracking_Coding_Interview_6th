{
 "cells": [
  {
   "cell_type": "code",
   "execution_count": 1,
   "id": "990507ec",
   "metadata": {},
   "outputs": [],
   "source": [
    "from linked_list import LinkedList"
   ]
  },
  {
   "cell_type": "code",
   "execution_count": 2,
   "id": "49480937",
   "metadata": {},
   "outputs": [],
   "source": [
    "def k_to_last(ll, k):\n",
    "    # Return the kth element from last\n",
    "    leader = follower = ll.head\n",
    "    count = 0\n",
    "    \n",
    "    while leader:\n",
    "        # Leader first to reach k\n",
    "        ## Follower move after leader, ended at last - k\n",
    "        if count >= k:\n",
    "            follower = follower.next\n",
    "            \n",
    "        count += 1\n",
    "        leader = leader.next\n",
    "    return follower"
   ]
  },
  {
   "cell_type": "code",
   "execution_count": 3,
   "id": "4026025b",
   "metadata": {},
   "outputs": [
    {
     "name": "stdout",
     "output_type": "stream",
     "text": [
      "5 -> 5 -> 5 -> 4 -> 1 -> 4 -> 5 -> 4 -> 1 -> 5\n",
      "4\n"
     ]
    }
   ],
   "source": [
    "ll = LinkedList.generate(10, 0, 9)\n",
    "res = k_to_last(ll, k = 3)\n",
    "print(ll)\n",
    "print(res)"
   ]
  },
  {
   "cell_type": "code",
   "execution_count": null,
   "id": "2472433d",
   "metadata": {},
   "outputs": [],
   "source": []
  }
 ],
 "metadata": {
  "kernelspec": {
   "display_name": "Python 3 (ipykernel)",
   "language": "python",
   "name": "python3"
  },
  "language_info": {
   "codemirror_mode": {
    "name": "ipython",
    "version": 3
   },
   "file_extension": ".py",
   "mimetype": "text/x-python",
   "name": "python",
   "nbconvert_exporter": "python",
   "pygments_lexer": "ipython3",
   "version": "3.7.11"
  }
 },
 "nbformat": 4,
 "nbformat_minor": 5
}
