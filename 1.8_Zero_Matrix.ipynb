{
 "cells": [
  {
   "cell_type": "markdown",
   "id": "134c63ae",
   "metadata": {},
   "source": [
    "# Zero Matrix\n",
    "## if found element = 0, entire row and column become 0 too."
   ]
  },
  {
   "cell_type": "code",
   "execution_count": 1,
   "id": "e36b8255",
   "metadata": {},
   "outputs": [],
   "source": [
    "def zero_matrix(matrix):\n",
    "    # matrix shape: m x n\n",
    "    m = len(matrix)\n",
    "    n = len(matrix[0])\n",
    "    \n",
    "    # new matrix\n",
    "    row = set()\n",
    "    col = set()\n",
    "    \n",
    "    # locate the 0 element in matrix\n",
    "    for x in range(m):\n",
    "        for y in range(n):\n",
    "            if matrix[x][y] == 0:\n",
    "                # save\n",
    "                row.add(x)\n",
    "                col.add(y)\n",
    "                \n",
    "    # change x, y value to 0\n",
    "    for x in range(m):\n",
    "        for y in range(n):\n",
    "            if (x in row) or (y in col):\n",
    "                matrix[x][y] = 0\n",
    "    return matrix"
   ]
  },
  {
   "cell_type": "code",
   "execution_count": 2,
   "id": "28451f87",
   "metadata": {},
   "outputs": [
    {
     "data": {
      "text/plain": [
       "[[1, 2, 3], [4, 5, 6], [7, 8, 9]]"
      ]
     },
     "execution_count": 2,
     "metadata": {},
     "output_type": "execute_result"
    }
   ],
   "source": [
    "demo_false = [[1, 2, 3],\n",
    "              [4, 5, 6],\n",
    "              [7, 8, 9]]\n",
    "zero_matrix(demo_false)"
   ]
  },
  {
   "cell_type": "code",
   "execution_count": 3,
   "id": "41dfb9eb",
   "metadata": {},
   "outputs": [
    {
     "data": {
      "text/plain": [
       "[[1, 0, 0], [0, 0, 0], [0, 0, 0]]"
      ]
     },
     "execution_count": 3,
     "metadata": {},
     "output_type": "execute_result"
    }
   ],
   "source": [
    "demo_true = [[1, 2, 3],\n",
    "             [4, 0, 6],\n",
    "             [7, 8, 0]]\n",
    "zero_matrix(demo_true)"
   ]
  },
  {
   "cell_type": "code",
   "execution_count": null,
   "id": "fe2459c7",
   "metadata": {},
   "outputs": [],
   "source": []
  }
 ],
 "metadata": {
  "kernelspec": {
   "display_name": "Python 3 (ipykernel)",
   "language": "python",
   "name": "python3"
  },
  "language_info": {
   "codemirror_mode": {
    "name": "ipython",
    "version": 3
   },
   "file_extension": ".py",
   "mimetype": "text/x-python",
   "name": "python",
   "nbconvert_exporter": "python",
   "pygments_lexer": "ipython3",
   "version": "3.7.11"
  }
 },
 "nbformat": 4,
 "nbformat_minor": 5
}
