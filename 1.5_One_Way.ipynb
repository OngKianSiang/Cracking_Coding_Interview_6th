{
 "cells": [
  {
   "cell_type": "markdown",
   "id": "4e3d324d",
   "metadata": {},
   "source": [
    "# One Step Different \n",
    "## \"Insert\" or \"Delete\" or \"Replace\""
   ]
  },
  {
   "cell_type": "code",
   "execution_count": 1,
   "id": "8431cf75",
   "metadata": {},
   "outputs": [],
   "source": [
    "# Solution 1:\n",
    "## Check the length of each string, decide which function to work\n",
    "def one_step_different(str1, str2):\n",
    "    if len(str1) == len(str2):\n",
    "        # check replacing different when equal length\n",
    "        return replace_different(str1, str2)\n",
    "    if len(str1) + 1 == len(str2):\n",
    "        # check inserting different when length - 1\n",
    "        return insert_delete_different(str1, str2)\n",
    "    if len(str1) - 1 == len(str2):\n",
    "        # check deleting different when length + 1\n",
    "        return insert_delete_different(str1, str2)\n",
    "    # return false when length incompatible\n",
    "    return False\n",
    "\n",
    "def replace_different(str1, str2):\n",
    "    # one error time is allowed\n",
    "    to_replace = False\n",
    "    \n",
    "    for char1, char2 in zip(str1, str2):\n",
    "        # compare both character in a same time\n",
    "        if char1 != char2:\n",
    "            # if error over 2 times\n",
    "            if to_replace:\n",
    "                return False\n",
    "            # else error time is used\n",
    "            else:\n",
    "                to_replace = True\n",
    "    return True\n",
    "\n",
    "def insert_delete_different(str1, str2):\n",
    "    # one error time is allowed\n",
    "    diff = False\n",
    "    i, j = 0, 0\n",
    "    \n",
    "    # length is + 1 or -1\n",
    "    while i < len(str1) and j < len(str2):\n",
    "        # compare with i, j character\n",
    "        if str1[i] != str2[j]:\n",
    "            # if error over 2 times\n",
    "            if diff:\n",
    "                return False\n",
    "            # else error time is used\n",
    "            ## j index add 1, i remained\n",
    "            else:\n",
    "                diff = True\n",
    "                j += 1\n",
    "                \n",
    "        # compare the next i and j\n",
    "        else:\n",
    "            i += 1\n",
    "            j += 1\n",
    "    \n",
    "    return True"
   ]
  },
  {
   "cell_type": "code",
   "execution_count": 2,
   "id": "2385e43f",
   "metadata": {},
   "outputs": [
    {
     "name": "stdout",
     "output_type": "stream",
     "text": [
      "True\n",
      "False\n",
      "True\n",
      "False\n",
      "True\n",
      "False\n"
     ]
    }
   ],
   "source": [
    "demo_replace_true_1 = 'aaba'\n",
    "demo_replace_true_2 = 'aaca'\n",
    "print(one_step_different(demo_replace_true_1, demo_replace_true_2))\n",
    "\n",
    "demo_replace_false_1 = 'bbac'\n",
    "demo_replace_false_2 = 'bbbd'\n",
    "print(one_step_different(demo_replace_false_1, demo_replace_false_2))\n",
    "\n",
    "demo_insert_true_1 = 'okl'\n",
    "demo_insert_true_2 = 'ok'\n",
    "print(one_step_different(demo_insert_true_1, demo_insert_true_2))\n",
    "\n",
    "demo_insert_false_1 = 'okle'\n",
    "demo_insert_false_2 = 'okgg'\n",
    "print(one_step_different(demo_insert_false_1, demo_insert_false_2))\n",
    "\n",
    "demo_delete_true_1 = 'oke'\n",
    "demo_delete_true_2 = 'okee'\n",
    "print(one_step_different(demo_insert_true_1, demo_insert_true_2))\n",
    "\n",
    "demo_delete_true_1 = 'okpp'\n",
    "demo_delete_true_2 = 'okee'\n",
    "print(one_step_different(demo_insert_false_1, demo_insert_false_2))"
   ]
  },
  {
   "cell_type": "code",
   "execution_count": null,
   "id": "07b1480b",
   "metadata": {},
   "outputs": [],
   "source": []
  }
 ],
 "metadata": {
  "kernelspec": {
   "display_name": "Python 3 (ipykernel)",
   "language": "python",
   "name": "python3"
  },
  "language_info": {
   "codemirror_mode": {
    "name": "ipython",
    "version": 3
   },
   "file_extension": ".py",
   "mimetype": "text/x-python",
   "name": "python",
   "nbconvert_exporter": "python",
   "pygments_lexer": "ipython3",
   "version": "3.7.11"
  }
 },
 "nbformat": 4,
 "nbformat_minor": 5
}
