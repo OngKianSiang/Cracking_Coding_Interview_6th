{
 "cells": [
  {
   "cell_type": "markdown",
   "id": "3462145b",
   "metadata": {},
   "source": [
    "# String Rotation"
   ]
  },
  {
   "cell_type": "code",
   "execution_count": 1,
   "id": "43465b78",
   "metadata": {},
   "outputs": [],
   "source": [
    "# Solution 1: repeat string1, check if string2 is in string1\n",
    "def string_rotation(str1, str2):\n",
    "    # assert string length is equal\n",
    "    if len(str1) == len(str2):\n",
    "        return str2 in (str1 * 2)\n",
    "    return False"
   ]
  },
  {
   "cell_type": "code",
   "execution_count": 2,
   "id": "809c71e9",
   "metadata": {},
   "outputs": [
    {
     "data": {
      "text/plain": [
       "True"
      ]
     },
     "execution_count": 2,
     "metadata": {},
     "output_type": "execute_result"
    }
   ],
   "source": [
    "demo1 = 'waterbottle'\n",
    "demo2 = 'erbottlewat'\n",
    "string_rotation(demo1 ,demo2)"
   ]
  },
  {
   "cell_type": "code",
   "execution_count": null,
   "id": "d9433391",
   "metadata": {},
   "outputs": [],
   "source": []
  }
 ],
 "metadata": {
  "kernelspec": {
   "display_name": "Python 3 (ipykernel)",
   "language": "python",
   "name": "python3"
  },
  "language_info": {
   "codemirror_mode": {
    "name": "ipython",
    "version": 3
   },
   "file_extension": ".py",
   "mimetype": "text/x-python",
   "name": "python",
   "nbconvert_exporter": "python",
   "pygments_lexer": "ipython3",
   "version": "3.7.11"
  }
 },
 "nbformat": 4,
 "nbformat_minor": 5
}
