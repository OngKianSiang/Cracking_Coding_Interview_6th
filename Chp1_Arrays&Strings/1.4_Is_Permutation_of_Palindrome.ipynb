{
 "cells": [
  {
   "cell_type": "markdown",
   "id": "fe391e60",
   "metadata": {},
   "source": [
    "# Check string if permutation of palindrome"
   ]
  },
  {
   "cell_type": "code",
   "execution_count": 1,
   "id": "f4873ff3",
   "metadata": {},
   "outputs": [],
   "source": [
    "# Solution 1: Define character frequency and check odd number\n",
    "\n",
    "def char_dict(string):\n",
    "    # Transfering string to frequency dictionary\n",
    "    ## Stand for Permutation\n",
    "    freq_dict = dict()\n",
    "    for char in string:\n",
    "        # Create key that first appeared\n",
    "        if char not in freq_dict.keys():\n",
    "            freq_dict[char] = 1\n",
    "        else:\n",
    "            # else add 1 count to key existed\n",
    "            freq_dict[char] += 1\n",
    "    return freq_dict\n",
    "\n",
    "def check_permutation_palindrome(string):\n",
    "    # Palindrome string could only exists ONE odd number of frequency\n",
    "    odd = 0\n",
    "    for count in char_dict(string).values():\n",
    "        # count divided by 2, if no remainder means the value is even number\n",
    "        if count %2 > 0:\n",
    "            odd += 1\n",
    "            \n",
    "            if odd == 2:\n",
    "                return False\n",
    "    return True"
   ]
  },
  {
   "cell_type": "code",
   "execution_count": 2,
   "id": "70240eab",
   "metadata": {},
   "outputs": [
    {
     "name": "stdout",
     "output_type": "stream",
     "text": [
      "True\n",
      "False\n"
     ]
    }
   ],
   "source": [
    "demo_true = 'racecar'\n",
    "demo_false = 'recar'\n",
    "print(check_permutation_palindrome(demo_true))\n",
    "print(check_permutation_palindrome(demo_false))"
   ]
  },
  {
   "cell_type": "code",
   "execution_count": null,
   "id": "455f7aab",
   "metadata": {},
   "outputs": [],
   "source": []
  }
 ],
 "metadata": {
  "kernelspec": {
   "display_name": "Python 3 (ipykernel)",
   "language": "python",
   "name": "python3"
  },
  "language_info": {
   "codemirror_mode": {
    "name": "ipython",
    "version": 3
   },
   "file_extension": ".py",
   "mimetype": "text/x-python",
   "name": "python",
   "nbconvert_exporter": "python",
   "pygments_lexer": "ipython3",
   "version": "3.7.11"
  }
 },
 "nbformat": 4,
 "nbformat_minor": 5
}
