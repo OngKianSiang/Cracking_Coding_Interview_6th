{
 "cells": [
  {
   "cell_type": "markdown",
   "id": "1f15da4a",
   "metadata": {},
   "source": [
    "# Check permutation for two strings"
   ]
  },
  {
   "cell_type": "code",
   "execution_count": 1,
   "id": "53bb63b7",
   "metadata": {},
   "outputs": [],
   "source": [
    "# Solution 1: Sort\n",
    "def check_permutation_sort(str1, str2):\n",
    "    # Lowercase, A != a\n",
    "    str1, str2 = str1.lower(), str2.lower()\n",
    "    \n",
    "    # Sorting Strings\n",
    "    sorted_str1 = ''.join(sorted(str1))\n",
    "    sorted_str2 = ''.join(sorted(str2))\n",
    "    \n",
    "    # Comparing\n",
    "    if sorted_str1 == sorted_str2:\n",
    "        return True\n",
    "    \n",
    "    return False"
   ]
  },
  {
   "cell_type": "code",
   "execution_count": 2,
   "id": "97ad454c",
   "metadata": {},
   "outputs": [],
   "source": [
    "# Solution 2: Counter (python)\n",
    "from collections import Counter\n",
    "def check_permutation_counter(str1, str2):\n",
    "    # Counting frequency of characters in strings\n",
    "    ## Equal frequency = Permutation strings\n",
    "    return Counter(str1.lower()) == Counter(str2.lower())"
   ]
  },
  {
   "cell_type": "code",
   "execution_count": 3,
   "id": "7a65e5b5",
   "metadata": {},
   "outputs": [],
   "source": [
    "# Solution 3: Data Structure\n",
    "def char_dict(string):\n",
    "    # Counting frequency without importing package\n",
    "    ## dictionary & for loop\n",
    "    freq_dict = dict()\n",
    "    for char in string:\n",
    "        # Create key that first appeared\n",
    "        if char not in freq_dict.keys():\n",
    "            freq_dict[char] = 1\n",
    "        else:\n",
    "            # else add 1 count to key existed\n",
    "            freq_dict[char] += 1\n",
    "    return freq_dict\n",
    "\n",
    "def check_permutation_dict(str1, str2):\n",
    "    # Processing strings to character dictionary\n",
    "    freq_str1 = char_dict(str1.lower())\n",
    "    freq_str2 = char_dict(str2.lower())\n",
    "    \n",
    "    # Comparing\n",
    "    if freq_str1 == freq_str2:\n",
    "        return True\n",
    "    return False"
   ]
  },
  {
   "cell_type": "code",
   "execution_count": 4,
   "id": "0ae328c3",
   "metadata": {},
   "outputs": [
    {
     "name": "stdout",
     "output_type": "stream",
     "text": [
      "True\n",
      "False\n",
      "True\n",
      "False\n",
      "True\n",
      "False\n"
     ]
    }
   ],
   "source": [
    "str1 = 'Abc'\n",
    "str2 = 'bca'\n",
    "str_false = 'daC'\n",
    "print(check_permutation_sort(str1, str2))\n",
    "print(check_permutation_sort(str1, str_false))\n",
    "print(check_permutation_counter(str1, str2))\n",
    "print(check_permutation_counter(str1, str_false))\n",
    "print(check_permutation_dict(str1, str2))\n",
    "print(check_permutation_dict(str1, str_false))"
   ]
  },
  {
   "cell_type": "code",
   "execution_count": null,
   "id": "ad62d391",
   "metadata": {},
   "outputs": [],
   "source": []
  },
  {
   "cell_type": "code",
   "execution_count": null,
   "id": "8c6f6faa",
   "metadata": {},
   "outputs": [],
   "source": []
  }
 ],
 "metadata": {
  "kernelspec": {
   "display_name": "Python 3 (ipykernel)",
   "language": "python",
   "name": "python3"
  },
  "language_info": {
   "codemirror_mode": {
    "name": "ipython",
    "version": 3
   },
   "file_extension": ".py",
   "mimetype": "text/x-python",
   "name": "python",
   "nbconvert_exporter": "python",
   "pygments_lexer": "ipython3",
   "version": "3.7.11"
  }
 },
 "nbformat": 4,
 "nbformat_minor": 5
}
