{
 "cells": [
  {
   "cell_type": "markdown",
   "id": "0915d369",
   "metadata": {},
   "source": [
    "# String Compression"
   ]
  },
  {
   "cell_type": "code",
   "execution_count": 1,
   "id": "5e1b7ea4",
   "metadata": {},
   "outputs": [],
   "source": [
    "# Solution 1: Looping and compare to the previous string\n",
    "\n",
    "def string_compression(string):\n",
    "    # Create empty string to append later\n",
    "    res_str = ''\n",
    "    count = 0\n",
    "    # indexing the character in string\n",
    "    for i in range(len(string)):\n",
    "        # characters & counting\n",
    "        ## Start from i = 1, comparing previous character\n",
    "        if i != 0 and string[i] != string[i - 1]:\n",
    "            ## if character stop repeated, append it\n",
    "            res_str += string[i - 1] + str(count)\n",
    "            \n",
    "            # Reset counting\n",
    "            count = 0\n",
    "        \n",
    "        else:\n",
    "            # if character repeated, add 1 counting\n",
    "            count += 1\n",
    "        \n",
    "    # The last character and counting\n",
    "    res_str += string[-1] + str(count)\n",
    "    return res_str            "
   ]
  },
  {
   "cell_type": "code",
   "execution_count": 2,
   "id": "a8b2c8c2",
   "metadata": {},
   "outputs": [
    {
     "data": {
      "text/plain": [
       "'a2b0c4a2'"
      ]
     },
     "execution_count": 2,
     "metadata": {},
     "output_type": "execute_result"
    }
   ],
   "source": [
    "demo = 'aabcccccaaa'\n",
    "string_compression(demo)"
   ]
  },
  {
   "cell_type": "code",
   "execution_count": null,
   "id": "626cffa6",
   "metadata": {},
   "outputs": [],
   "source": []
  }
 ],
 "metadata": {
  "kernelspec": {
   "display_name": "Python 3 (ipykernel)",
   "language": "python",
   "name": "python3"
  },
  "language_info": {
   "codemirror_mode": {
    "name": "ipython",
    "version": 3
   },
   "file_extension": ".py",
   "mimetype": "text/x-python",
   "name": "python",
   "nbconvert_exporter": "python",
   "pygments_lexer": "ipython3",
   "version": "3.7.11"
  }
 },
 "nbformat": 4,
 "nbformat_minor": 5
}
