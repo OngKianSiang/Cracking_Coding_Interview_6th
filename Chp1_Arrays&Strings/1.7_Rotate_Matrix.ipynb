{
 "cells": [
  {
   "cell_type": "markdown",
   "id": "6503ac40",
   "metadata": {},
   "source": [
    "# Rotate Matrix (N x N) with 90 Degree Clockwise"
   ]
  },
  {
   "cell_type": "code",
   "execution_count": 1,
   "id": "3d65e1e7",
   "metadata": {},
   "outputs": [],
   "source": [
    "# Solution 1: four cell swapping\n",
    "def rotate_matrix_swap(matrix):\n",
    "    # NxN matrix\n",
    "    n = len(matrix)\n",
    "    \n",
    "    # i group for each 4 cell (corner)\n",
    "    ## the center value is remained\n",
    "    for i in range(n // 2 + n % 2):\n",
    "        for j in range(n // 2):\n",
    "            # matrix[row][column]\n",
    "            ## save the element, from bottom [n - 1 - j], left [i]\n",
    "            tmp = matrix[n - 1 - j][i]\n",
    "\n",
    "            # bottom left <- bottom right\n",
    "            ## replace with opposite corner value, bottom [n - 1 - i], right [n - j - 1]\n",
    "            matrix[n - 1 - j][i] = matrix[n - 1 - i][n - j - 1]\n",
    "            \n",
    "            #  bottom right <- top right\n",
    "            ## replace with opposite corner value, top [j], right [n - 1 - i]\n",
    "            matrix[n - 1 - i][n - j - 1] = matrix[j][n - 1 - i]\n",
    "            \n",
    "            # top right <- top left\n",
    "            ## replace with opposite corner value, top [i], left [j] (origin)\n",
    "            matrix[j][n - 1 - i] = matrix[i][j]\n",
    "\n",
    "            # top left <- bottom left\n",
    "            ## replace with element saved at the beginning\n",
    "            matrix[i][j] = tmp\n",
    "        \n",
    "    return matrix"
   ]
  },
  {
   "cell_type": "code",
   "execution_count": null,
   "id": "bbd4513f",
   "metadata": {},
   "outputs": [],
   "source": []
  },
  {
   "cell_type": "code",
   "execution_count": 2,
   "id": "d4811524",
   "metadata": {},
   "outputs": [],
   "source": [
    "# Solution 2: Reverse on diagonal and left to right\n",
    "def rotate_matrix_diagonal(matrix):\n",
    "    n = len(matrix)\n",
    "    \n",
    "    # Transpose first\n",
    "    ## matrix[row][column] = matrix[column][row]\n",
    "    for i in range(n):\n",
    "        # Diagonal ith row, jth column\n",
    "        for j in range(i + 1, n):\n",
    "            matrix[i][j], matrix[j][i] = matrix[j][i], matrix[i][j]\n",
    "    \n",
    "    # Reflect\n",
    "    ## matrix[row][left] = matrix[row][right]\n",
    "    for i in range(n):\n",
    "        # Reversing j element, left: j, right: [- j - 1]\n",
    "        for j in range(n // 2):\n",
    "            matrix[i][j], matrix[i][- j - 1] = matrix[i][- j - 1], matrix[i][j]\n",
    "            \n",
    "    return matrix"
   ]
  },
  {
   "cell_type": "code",
   "execution_count": 3,
   "id": "d78675b8",
   "metadata": {},
   "outputs": [
    {
     "data": {
      "text/plain": [
       "[[9, 8, 7], [6, 5, 4], [3, 2, 1]]"
      ]
     },
     "execution_count": 3,
     "metadata": {},
     "output_type": "execute_result"
    }
   ],
   "source": [
    "demo = [[1, 2, 3],\n",
    "        [4, 5, 6],\n",
    "        [7, 8, 9]]\n",
    "\n",
    "# 90 degress rotatation for each function\n",
    "rotate_matrix_swap(demo)\n",
    "rotate_matrix_diagonal(demo)\n",
    "\n",
    "# 180 degress\n",
    "demo"
   ]
  },
  {
   "cell_type": "code",
   "execution_count": null,
   "id": "2809fbec",
   "metadata": {},
   "outputs": [],
   "source": []
  }
 ],
 "metadata": {
  "kernelspec": {
   "display_name": "Python 3 (ipykernel)",
   "language": "python",
   "name": "python3"
  },
  "language_info": {
   "codemirror_mode": {
    "name": "ipython",
    "version": 3
   },
   "file_extension": ".py",
   "mimetype": "text/x-python",
   "name": "python",
   "nbconvert_exporter": "python",
   "pygments_lexer": "ipython3",
   "version": "3.7.11"
  }
 },
 "nbformat": 4,
 "nbformat_minor": 5
}
