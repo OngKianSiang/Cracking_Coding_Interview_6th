{
 "cells": [
  {
   "cell_type": "markdown",
   "id": "568afb0c",
   "metadata": {},
   "source": [
    "# URLify: Replace Space with %20"
   ]
  },
  {
   "cell_type": "code",
   "execution_count": 1,
   "id": "1e1c2d80",
   "metadata": {},
   "outputs": [],
   "source": [
    "# Solution 1: Default function to replace substring\n",
    "def replace_python(string, substring_to_replace = ' ', replace_with = '%20'):\n",
    "    return string.replace(substring_to_replace, replace_with)"
   ]
  },
  {
   "cell_type": "code",
   "execution_count": 2,
   "id": "7feed508",
   "metadata": {},
   "outputs": [],
   "source": [
    "# Solution 2: Check character one by one\n",
    "def replace_loop(string, substring_to_replace = ' ', replace_with = '%20'):\n",
    "    res_str = ''\n",
    "    # Looping characters in string\n",
    "    for char in string:\n",
    "        # Append character or change it\n",
    "        if char == substring_to_replace:\n",
    "            res_str += replace_with\n",
    "        else:\n",
    "            res_str += char\n",
    "    return res_str"
   ]
  },
  {
   "cell_type": "code",
   "execution_count": 3,
   "id": "cea3f5a2",
   "metadata": {},
   "outputs": [
    {
     "name": "stdout",
     "output_type": "stream",
     "text": [
      "python%20nohtyp\n",
      "python%20nohtyp\n"
     ]
    }
   ],
   "source": [
    "demo_str = 'python nohtyp'\n",
    "print(replace_python(demo_str))\n",
    "print(replace_loop(demo_str))"
   ]
  },
  {
   "cell_type": "code",
   "execution_count": null,
   "id": "84f0914f",
   "metadata": {},
   "outputs": [],
   "source": []
  }
 ],
 "metadata": {
  "kernelspec": {
   "display_name": "Python 3 (ipykernel)",
   "language": "python",
   "name": "python3"
  },
  "language_info": {
   "codemirror_mode": {
    "name": "ipython",
    "version": 3
   },
   "file_extension": ".py",
   "mimetype": "text/x-python",
   "name": "python",
   "nbconvert_exporter": "python",
   "pygments_lexer": "ipython3",
   "version": "3.7.11"
  }
 },
 "nbformat": 4,
 "nbformat_minor": 5
}
